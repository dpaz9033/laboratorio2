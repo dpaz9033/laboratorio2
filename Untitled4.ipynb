{
  "nbformat": 4,
  "nbformat_minor": 0,
  "metadata": {
    "colab": {
      "provenance": [],
      "authorship_tag": "ABX9TyPTFOMSbAtXCK99lXmRA7Qp",
      "include_colab_link": true
    },
    "kernelspec": {
      "name": "python3",
      "display_name": "Python 3"
    },
    "language_info": {
      "name": "python"
    }
  },
  "cells": [
    {
      "cell_type": "markdown",
      "metadata": {
        "id": "view-in-github",
        "colab_type": "text"
      },
      "source": [
        "<a href=\"https://colab.research.google.com/github/dpaz9033/laboratorio2/blob/main/Untitled4.ipynb\" target=\"_parent\"><img src=\"https://colab.research.google.com/assets/colab-badge.svg\" alt=\"Open In Colab\"/></a>"
      ]
    },
    {
      "cell_type": "markdown",
      "source": [
        "1. Haga un programa en Python que reciba de parametro un numero de segundos y que despliegue en pantalla, las horas, minutos y segundos que representan."
      ],
      "metadata": {
        "id": "PPMQw3pgKowz"
      }
    },
    {
      "cell_type": "code",
      "source": [
        "segundos= int(input('Escriba la cantidad de segundos: '))\n",
        "\n",
        "horas = segundos // (60*60)\n",
        "segundos= segundos % (60*60)\n",
        "minutos = segundos // 60\n",
        "segundos = segundos % 60\n",
        "\n",
        "print ('Horas: {} - Minutos: {} - Segundos: {}'.format(horas, minutos, segundos))"
      ],
      "metadata": {
        "colab": {
          "base_uri": "https://localhost:8080/"
        },
        "id": "CXgH2ZO8Kn3K",
        "outputId": "e697c47c-80fc-49dd-9d62-518f063ed21b"
      },
      "execution_count": 5,
      "outputs": [
        {
          "output_type": "stream",
          "name": "stdout",
          "text": [
            "Escriba la cantidad de segundos: 5871\n",
            "Horas: 1 - Minutos: 37 - Segundos: 51\n"
          ]
        }
      ]
    },
    {
      "cell_type": "markdown",
      "source": [
        "2. Haga una funcion en Python que dado un numero entre 1 y 20. Y un caracter cualquiera despliegue cuatro patrones triangulares."
      ],
      "metadata": {
        "id": "xbAUaCNuOrpf"
      }
    },
    {
      "cell_type": "code",
      "source": [
        "n= int(input('Escriba el número de reglones del triangulo'))\n",
        "for i in range (n+1):\n",
        "    print('*'*i)\n",
        "\n",
        "for i in range (n+1):\n",
        "    espacios=n-i\n",
        "    print(' '*espacios+'*'*i)\n",
        "\n",
        "for i in range (n+1):\n",
        "    espacios=n-i\n",
        "    print(' '*espacios+'* '*i)"
      ],
      "metadata": {
        "colab": {
          "base_uri": "https://localhost:8080/"
        },
        "id": "SslHcmcCO-Dd",
        "outputId": "756061ef-fd1f-4709-ce1a-7aa256a45618"
      },
      "execution_count": 8,
      "outputs": [
        {
          "output_type": "stream",
          "name": "stdout",
          "text": [
            "Escriba el número de reglones del triangulo4\n",
            "\n",
            "*\n",
            "**\n",
            "***\n",
            "****\n",
            "    \n",
            "   *\n",
            "  **\n",
            " ***\n",
            "****\n",
            "    \n",
            "   * \n",
            "  * * \n",
            " * * * \n",
            "* * * * \n"
          ]
        }
      ]
    },
    {
      "cell_type": "markdown",
      "source": [
        "3. Haga un programa en Python que la fecha de nacimiento de una persona (puede ingresar por separado cada valor, es decir pedir primero dıa, luego mes y luego ano), despliegue la edad de la persona en anos, meses y dıas. Su resultado puede ser aproximado."
      ],
      "metadata": {
        "id": "BkFCrIa1qris"
      }
    },
    {
      "cell_type": "code",
      "source": [
        "from datetime import datetime\n",
        "from dateutil.relativedelta import relativedelta\n",
        "\n",
        "edad = relativedelta(datetime.now(), datetime(1990, 1, 3))\n",
        "print(f\"{edad.years} años, {edad.months} meses y {edad.days} días\")"
      ],
      "metadata": {
        "colab": {
          "base_uri": "https://localhost:8080/"
        },
        "id": "TliCu7wGCrj5",
        "outputId": "2ee85c44-f766-4239-8947-4bdcbb0511f5"
      },
      "execution_count": 11,
      "outputs": [
        {
          "output_type": "stream",
          "name": "stdout",
          "text": [
            "33 años, 2 meses y 2 días\n"
          ]
        }
      ]
    },
    {
      "cell_type": "markdown",
      "source": [
        "4. Escriba una funcion en Python que dada una tupla de elementos (numeros o letras) esta se convierta a un string. Tomar nota del siguiente ejemplo:\n",
        "Si la entrada fuera: (10, 20, 40, 5, 70) La salida deberia ser: 102040570"
      ],
      "metadata": {
        "id": "31JPWnshDFBq"
      }
    },
    {
      "cell_type": "code",
      "source": [
        "entrada = ('10','20','40','5','70')\n",
        "\n",
        "python = ''.join(entrada)\n",
        "\n",
        "print(type(python))\n",
        "print(python)"
      ],
      "metadata": {
        "colab": {
          "base_uri": "https://localhost:8080/"
        },
        "id": "F5dH2NWwHiln",
        "outputId": "ce3fe5d2-0ef4-4315-cb98-8166215a22b4"
      },
      "execution_count": 19,
      "outputs": [
        {
          "output_type": "stream",
          "name": "stdout",
          "text": [
            "<class 'str'>\n",
            "102040570\n"
          ]
        }
      ]
    },
    {
      "cell_type": "markdown",
      "source": [
        "5. Cree un programa en Python que dada una lista de tuplas, elimine las tuplas que estan vacıas. Tomar nota del siguiente ejemplo:\n",
        "Si la lista fuera: [(), (), (’X’,), (’a’, ’b’), (’a’, ’b’, ’c’), (’d’)] El resultado deberıa ser: [(’X’), (’a’, ’b’), (’a’, ’b’, ’c’), ’d’]\n"
      ],
      "metadata": {
        "id": "JjTOrj61ITL7"
      }
    },
    {
      "cell_type": "code",
      "source": [
        "tuplas = [(), (), ('X',), ('a', 'b'), ('a', 'b', 'c'), ('d')]\n",
        "\n",
        "print(tuplas)\n",
        "print (len(tuplas))\n",
        "\n",
        "print()\n",
        "\n",
        "tuplas = [t for t in tuplas if t]\n",
        "\n",
        "print(tuplas)\n",
        "print(len(tuplas))"
      ],
      "metadata": {
        "colab": {
          "base_uri": "https://localhost:8080/"
        },
        "id": "ekFaauVHIfmm",
        "outputId": "b5c10e08-8169-442c-e5fd-36e58dd50c56"
      },
      "execution_count": 20,
      "outputs": [
        {
          "output_type": "stream",
          "name": "stdout",
          "text": [
            "[(), (), ('X',), ('a', 'b'), ('a', 'b', 'c'), 'd']\n",
            "6\n",
            "\n",
            "[('X',), ('a', 'b'), ('a', 'b', 'c'), 'd']\n",
            "4\n"
          ]
        }
      ]
    },
    {
      "cell_type": "markdown",
      "source": [
        "6. Cree una funcion en Python que dada una tupla de tuplas con numeros, produzca una tupla con el promedio de cada tupla individual. Tomar nota del siguiente ejemplo:\n",
        "Si la tupla de entrada fuera: ((10, 10, 10, 12), (30, 45, 56, 45), (81, 80, 39, 32)) El resultado deberia ser: (10.5, 44, 58)"
      ],
      "metadata": {
        "id": "uftRY2b3KVNo"
      }
    },
    {
      "cell_type": "code",
      "source": [
        "tupla1 = [10,10,10,12]\n",
        "tupla2 = [30,45,56,45]\n",
        "tupla3 = [81,80,39,32]\n",
        "\n",
        "suma1=tupla1[0]+tupla1[1]+tupla1[2]+tupla1[3]\n",
        "promedio1 = suma1/4\n",
        "\n",
        "suma2=tupla2[0]+tupla2[1]+tupla2[2]+tupla2[3]\n",
        "promedio2 = suma2/4\n",
        "\n",
        "suma3=tupla3[0]+tupla3[1]+tupla3[2]+tupla3[3]\n",
        "promedio3 = suma3/4\n",
        "\n",
        "print(promedio1)\n",
        "print(promedio2)\n",
        "print(promedio3)"
      ],
      "metadata": {
        "colab": {
          "base_uri": "https://localhost:8080/"
        },
        "id": "jirMtLPCKkGK",
        "outputId": "6d625762-f6ce-4190-987e-ebbfa1776d00"
      },
      "execution_count": 36,
      "outputs": [
        {
          "output_type": "stream",
          "name": "stdout",
          "text": [
            "10.5\n",
            "44.0\n",
            "58.0\n"
          ]
        }
      ]
    },
    {
      "cell_type": "markdown",
      "source": [
        "7. Escribir un programa que gestione las facturas pendientes de cobro de una empresa. Las facturas se almacenaran en un diccionario donde la llave de cada factura sera el numero de factura (debe utilizar un numero de 4 dıgitos) y el valor el coste de la factura. El programa debe preguntar al usuario si quiere anadir una nueva factura, pagar una existente o terminar. Si desea anadir una nueva factura se preguntara por el numero de factura y su coste y se anadiria al diccionario, para conﬁrmar que la factura se ingreso correctamente el programa debe desplegar el diccionario completo. Si se desea pagar una factura se preguntar´ a por el numero de factura y se eliminaria del diccionario. Despues de cada operacion el programa debe mostrar en pantalla la cantidad cobrada hasta el momento y la cantidad pendiente de cobro. Puede utilizar otras estructuras de datos como apoyo si lo considera necesario.\n"
      ],
      "metadata": {
        "id": "cRdjU9EqWAlM"
      }
    },
    {
      "cell_type": "code",
      "source": [
        "facturas = {}\n",
        "cobrado = 0\n",
        "pendiente = 0\n",
        "more = ''\n",
        "while more != 'T':\n",
        "    if more == 'A':\n",
        "        clave = input('Introduce el número de la factura: ')\n",
        "        coste = float(input('Introduce el coste de la factura: '))\n",
        "        facturas[clave] = coste\n",
        "        pendiente += coste\n",
        "    if more == 'P':\n",
        "        clave = input('Introduce el número de la factura a pagar: ')\n",
        "        coste = facturas.pop(clave, 0)\n",
        "        cobrado += coste\n",
        "        pendiente -= coste\n",
        "    print('Recaudado:', cobrado)\n",
        "    print('Pendiente de cobro: ', pendiente)\n",
        "    more = input('¿Quieres añadir una nueva factura (A), pagarla (P) o terminar (T)? ')"
      ],
      "metadata": {
        "colab": {
          "base_uri": "https://localhost:8080/"
        },
        "id": "ZtOhGmbgWUKy",
        "outputId": "91236acf-bf8b-4ea3-ad8a-04eaa49627dd"
      },
      "execution_count": null,
      "outputs": [
        {
          "output_type": "stream",
          "name": "stdout",
          "text": [
            "Recaudado: 0\n",
            "Pendiente de cobro:  0\n"
          ]
        }
      ]
    },
    {
      "cell_type": "markdown",
      "source": [
        "8. Haga una funcion en Python, que cree un set con todas las cartas de una baraja de Pocker utilizando el siguiente formato: Tipo-Numero. Utilice las letras T para treboles, C para corazones, P para picas y E para espadas. Para los numeros utilice la numeraci´ on del 1 al 13. Por ejemplo E13 - serıa Rey de Espadas, P01 serıa As de Picas, T05 serıa cinco de Treboles.\n",
        "Posteriormente cree una funcion que dado el conjunto anterior cree dos sets nuevos de cartas, cada conjunto debe tener una cantidad variable de elementos, puede utilizar numeros aleatorios enteros para deﬁnir la longitud de los conjuntos.\n",
        "Adicionalmente, debera calcular la probabilidad de la intersecci´ on de ambos conjuntos y demuestre si son eventos independientes con la regla del producto.\n",
        "Para concluir, calcule probabilidad de la union de ambos conjuntos y demuestre que se cumple la regla de la adicion.\n"
      ],
      "metadata": {
        "id": "JIOYyzzqYgEA"
      }
    },
    {
      "cell_type": "code",
      "source": [],
      "metadata": {
        "id": "L9w5_mmSY3Bm"
      },
      "execution_count": null,
      "outputs": []
    },
    {
      "cell_type": "markdown",
      "source": [],
      "metadata": {
        "id": "8WFTBDjiKmi1"
      }
    }
  ]
}